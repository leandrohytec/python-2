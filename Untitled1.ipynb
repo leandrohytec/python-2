{
  "nbformat": 4,
  "nbformat_minor": 0,
  "metadata": {
    "colab": {
      "name": "Untitled1.ipynb",
      "provenance": [],
      "authorship_tag": "ABX9TyPRgvkNnmzfFAnbAwTuu37h",
      "include_colab_link": true
    },
    "kernelspec": {
      "name": "python3",
      "display_name": "Python 3"
    }
  },
  "cells": [
    {
      "cell_type": "markdown",
      "metadata": {
        "id": "view-in-github",
        "colab_type": "text"
      },
      "source": [
        "<a href=\"https://colab.research.google.com/github/leandrohytec/python-2/blob/master/Untitled1.ipynb\" target=\"_parent\"><img src=\"https://colab.research.google.com/assets/colab-badge.svg\" alt=\"Open In Colab\"/></a>"
      ]
    },
    {
      "cell_type": "code",
      "metadata": {
        "id": "Yt4D5TNwA5zw",
        "colab_type": "code",
        "colab": {
          "base_uri": "https://localhost:8080/",
          "height": 204
        },
        "outputId": "09b9af21-9e04-4415-d2f9-085f874c3a69"
      },
      "source": [
        "x='texto 1\\ntexto 2'\n",
        "print(x)\n",
        "tamanho=len(x)\n",
        "print(tamanho)\n",
        "print(x[2])\n",
        "print(x[0:4])\n",
        "print(x[::2])\n",
        "print(x[:-1])\n",
        "print(tamanho)\n",
        "y=x[:-1]+'2'\n",
        "print(y)"
      ],
      "execution_count": 10,
      "outputs": [
        {
          "output_type": "stream",
          "text": [
            "texto 1\n",
            "texto 2\n",
            "15\n",
            "x\n",
            "text\n",
            "txo1txo2\n",
            "texto 1\n",
            "texto \n",
            "15\n",
            "texto 1\n",
            "texto 2\n"
          ],
          "name": "stdout"
        }
      ]
    },
    {
      "cell_type": "code",
      "metadata": {
        "id": "r38TqhMsB5Wi",
        "colab_type": "code",
        "colab": {
          "base_uri": "https://localhost:8080/",
          "height": 102
        },
        "outputId": "516ea1a5-dbb8-415a-a67c-76266036a234"
      },
      "source": [
        "a='oi'\n",
        "b='como'\n",
        "c='vai?\\n'\n",
        "d= a+b+c\n",
        "print(4*(d))"
      ],
      "execution_count": 11,
      "outputs": [
        {
          "output_type": "stream",
          "text": [
            "oicomovai?\n",
            "oicomovai?\n",
            "oicomovai?\n",
            "oicomovai?\n",
            "\n"
          ],
          "name": "stdout"
        }
      ]
    },
    {
      "cell_type": "code",
      "metadata": {
        "id": "vUftNFjtGVMb",
        "colab_type": "code",
        "colab": {
          "base_uri": "https://localhost:8080/",
          "height": 68
        },
        "outputId": "33d2695e-4ddc-427f-e67c-c9ebca183b94"
      },
      "source": [
        "x= 'materia probapilidade e estatidca com python'\n",
        "print(x)\n",
        "y=x.split()\n",
        "print(y)\n",
        "z=x.split('a')\n",
        "print(z)"
      ],
      "execution_count": 16,
      "outputs": [
        {
          "output_type": "stream",
          "text": [
            "materia probapilidade e estatidca com python\n",
            "['materia', 'probapilidade', 'e', 'estatidca', 'com', 'python']\n",
            "['m', 'teri', ' prob', 'pilid', 'de e est', 'tidc', ' com python']\n"
          ],
          "name": "stdout"
        }
      ]
    },
    {
      "cell_type": "code",
      "metadata": {
        "id": "L20arlguHM1D",
        "colab_type": "code",
        "colab": {
          "base_uri": "https://localhost:8080/",
          "height": 85
        },
        "outputId": "d376df7f-7e14-413f-cae5-b5ef05613ead"
      },
      "source": [
        "v1='os carros sao: {}, {} e {}'\n",
        "carro1='polo'\n",
        "carro2='compass'\n",
        "carro3='palio'\n",
        "print(v1)\n",
        "print(v1.format(carro1, carro2, carro3))\n",
        "v2='os carros sao: {2}, {1} e {0}'\n",
        "print(v2.format(carro1, carro2, carro3))\n",
        "v3='os carros sao: {2}, {1} e {0}'\n",
        "print(v2.format(carro1, carro1, carro1))"
      ],
      "execution_count": 23,
      "outputs": [
        {
          "output_type": "stream",
          "text": [
            "os carros sao: {}, {} e {}\n",
            "os carros sao: polo, compass e palio\n",
            "os carros sao: palio, compass e polo\n",
            "os carros sao: polo, polo e polo\n"
          ],
          "name": "stdout"
        }
      ]
    },
    {
      "cell_type": "code",
      "metadata": {
        "id": "bDAm55zmIiWi",
        "colab_type": "code",
        "colab": {}
      },
      "source": [
        ""
      ],
      "execution_count": null,
      "outputs": []
    }
  ]
}